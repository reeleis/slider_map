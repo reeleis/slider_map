{
 "cells": [
  {
   "cell_type": "code",
   "execution_count": 1,
   "metadata": {
    "collapsed": false
   },
   "outputs": [],
   "source": [
    "# import necessary modules\n",
    "import pandas as pd\n",
    "from geopandas import GeoDataFrame"
   ]
  },
  {
   "cell_type": "code",
   "execution_count": 2,
   "metadata": {
    "collapsed": false
   },
   "outputs": [
    {
     "data": {
      "text/html": [
       "<div>\n",
       "<table border=\"1\" class=\"dataframe\">\n",
       "  <thead>\n",
       "    <tr style=\"text-align: right;\">\n",
       "      <th></th>\n",
       "      <th>geometry</th>\n",
       "      <th>TotalPop</th>\n",
       "      <th>ix_auto_p</th>\n",
       "      <th>ix_buvi_p</th>\n",
       "      <th>ix_disad_p</th>\n",
       "      <th>ix_fupo_p</th>\n",
       "      <th>ix_luco_p</th>\n",
       "      <th>ix_res_p</th>\n",
       "      <th>ix_tcco_p</th>\n",
       "    </tr>\n",
       "  </thead>\n",
       "  <tbody>\n",
       "    <tr>\n",
       "      <th>0</th>\n",
       "      <td>POLYGON ((-192892.7870152284 -20995.4129560068...</td>\n",
       "      <td>956</td>\n",
       "      <td>0.232</td>\n",
       "      <td>0.328358</td>\n",
       "      <td>0.158</td>\n",
       "      <td>0.402985</td>\n",
       "      <td>0.143283</td>\n",
       "      <td>0.364</td>\n",
       "      <td>0.313432</td>\n",
       "    </tr>\n",
       "    <tr>\n",
       "      <th>1</th>\n",
       "      <td>POLYGON ((-192470.6670469679 -23560.1336824446...</td>\n",
       "      <td>1074</td>\n",
       "      <td>0.122</td>\n",
       "      <td>0.125373</td>\n",
       "      <td>0.367</td>\n",
       "      <td>0.391044</td>\n",
       "      <td>0.247761</td>\n",
       "      <td>0.349</td>\n",
       "      <td>0.704477</td>\n",
       "    </tr>\n",
       "    <tr>\n",
       "      <th>2</th>\n",
       "      <td>POLYGON ((-192186.7032789606 -22294.1540910815...</td>\n",
       "      <td>977</td>\n",
       "      <td>0.298</td>\n",
       "      <td>0.394029</td>\n",
       "      <td>0.176</td>\n",
       "      <td>0.310447</td>\n",
       "      <td>0.149253</td>\n",
       "      <td>0.420</td>\n",
       "      <td>0.032835</td>\n",
       "    </tr>\n",
       "    <tr>\n",
       "      <th>3</th>\n",
       "      <td>POLYGON ((-191100.1358752354 -28694.7773851258...</td>\n",
       "      <td>2029</td>\n",
       "      <td>0.755</td>\n",
       "      <td>0.453731</td>\n",
       "      <td>0.659</td>\n",
       "      <td>0.158208</td>\n",
       "      <td>0.698507</td>\n",
       "      <td>0.468</td>\n",
       "      <td>0.340298</td>\n",
       "    </tr>\n",
       "    <tr>\n",
       "      <th>4</th>\n",
       "      <td>POLYGON ((-190978.7738020942 -29418.8835500078...</td>\n",
       "      <td>747</td>\n",
       "      <td>0.707</td>\n",
       "      <td>0.017910</td>\n",
       "      <td>0.513</td>\n",
       "      <td>0.134328</td>\n",
       "      <td>0.370149</td>\n",
       "      <td>0.468</td>\n",
       "      <td>0.116417</td>\n",
       "    </tr>\n",
       "  </tbody>\n",
       "</table>\n",
       "</div>"
      ],
      "text/plain": [
       "                                            geometry  TotalPop  ix_auto_p  \\\n",
       "0  POLYGON ((-192892.7870152284 -20995.4129560068...       956      0.232   \n",
       "1  POLYGON ((-192470.6670469679 -23560.1336824446...      1074      0.122   \n",
       "2  POLYGON ((-192186.7032789606 -22294.1540910815...       977      0.298   \n",
       "3  POLYGON ((-191100.1358752354 -28694.7773851258...      2029      0.755   \n",
       "4  POLYGON ((-190978.7738020942 -29418.8835500078...       747      0.707   \n",
       "\n",
       "   ix_buvi_p  ix_disad_p  ix_fupo_p  ix_luco_p  ix_res_p  ix_tcco_p  \n",
       "0   0.328358       0.158   0.402985   0.143283     0.364   0.313432  \n",
       "1   0.125373       0.367   0.391044   0.247761     0.349   0.704477  \n",
       "2   0.394029       0.176   0.310447   0.149253     0.420   0.032835  \n",
       "3   0.453731       0.659   0.158208   0.698507     0.468   0.340298  \n",
       "4   0.017910       0.513   0.134328   0.370149     0.468   0.116417  "
      ]
     },
     "execution_count": 2,
     "metadata": {},
     "output_type": "execute_result"
    }
   ],
   "source": [
    "# load the ArcGIS shapefile as a geodataframe\n",
    "df = GeoDataFrame.from_file('Block Groups with Indices/2010Census_Blockgrp_NAD83Alb_nowater_OaklandOnly_v2.shp')\n",
    "df = df[['geometry', 'TotalPop', 'ix_auto_p', 'ix_buvi_p', 'ix_disad_p', \n",
    "         'ix_fupo_p', 'ix_luco_p', 'ix_res_p', 'ix_tcco_p']]\n",
    "df.head()"
   ]
  },
  {
   "cell_type": "code",
   "execution_count": 3,
   "metadata": {
    "collapsed": false
   },
   "outputs": [],
   "source": [
    "# pass an existing proj4 string to this function and it'll turn it into a python dict\n",
    "def proj4_to_dict(proj4string):\n",
    "    params_dict = {}\n",
    "    proj4string = proj4string.strip('+') #strip preceding +\n",
    "    for param_pair in proj4string.split(' +'): #break string into tokens\n",
    "        key_value = param_pair.split('=') #break token by parameter=value\n",
    "        if len(key_value)==2: #if there aren't 2 pieces (param and value), ignore it\n",
    "            key, value = tuple(key_value)\n",
    "        params_dict[key] = value\n",
    "    return params_dict"
   ]
  },
  {
   "cell_type": "code",
   "execution_count": 4,
   "metadata": {
    "collapsed": false
   },
   "outputs": [],
   "source": [
    "# test the function out\n",
    "proj4 = '+proj=latlong +datum=WGS84'\n",
    "latlong = proj4_to_dict(proj4)\n",
    "df = df.to_crs(latlong)"
   ]
  },
  {
   "cell_type": "code",
   "execution_count": 5,
   "metadata": {
    "collapsed": false
   },
   "outputs": [
    {
     "name": "stdout",
     "output_type": "stream",
     "text": [
      "336 geotagged features saved to file\n"
     ]
    }
   ],
   "source": [
    "# save the geojson result to a file\n",
    "output_filename = 'oakland.js'\n",
    "with open(output_filename, 'wb') as output_file:\n",
    "    output_file.write('var dataset = ')\n",
    "    output_file.write(df.to_json())\n",
    "    \n",
    "# how many features did we save to the geojson file?\n",
    "print '{} geotagged features saved to file'.format(len(df))"
   ]
  }
 ],
 "metadata": {
  "kernelspec": {
   "display_name": "Python 2",
   "language": "python",
   "name": "python2"
  },
  "language_info": {
   "codemirror_mode": {
    "name": "ipython",
    "version": 2
   },
   "file_extension": ".py",
   "mimetype": "text/x-python",
   "name": "python",
   "nbconvert_exporter": "python",
   "pygments_lexer": "ipython2",
   "version": "2.7.10"
  }
 },
 "nbformat": 4,
 "nbformat_minor": 0
}
